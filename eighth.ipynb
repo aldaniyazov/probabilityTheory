{
 "cells": [
  {
   "cell_type": "markdown",
   "metadata": {},
   "source": [
    "Даны значения величины заработной платы заемщиков банка (zp) и значения их поведенческого кредитного скоринга (ks): zp = [35, 45, 190, 200, 40, 70, 54, 150, 120, 110], ks = [401, 574, 874, 919, 459, 739, 653, 902, 746, 832]. Найдите ковариацию этих двух величин с помощью элементарных действий, а затем с помощью функции cov из numpy Полученные значения должны быть равны. Найдите коэффициент корреляции Пирсона с помощью ковариации и среднеквадратичных отклонений двух признаков, а затем с использованием функций из библиотек numpy и pandas."
   ]
  },
  {
   "cell_type": "code",
   "execution_count": 1,
   "metadata": {},
   "outputs": [],
   "source": [
    "import numpy as np\n",
    "import pandas as pd"
   ]
  },
  {
   "cell_type": "markdown",
   "metadata": {},
   "source": [
    "Заданные значения заработной платы и кредитного скоринга"
   ]
  },
  {
   "cell_type": "code",
   "execution_count": 2,
   "metadata": {},
   "outputs": [],
   "source": [
    "zp = np.array([35, 45, 190, 200, 40, 70, 54, 150, 120, 110])\n",
    "ks = np.array([401, 574, 874, 919, 459, 739, 653, 902, 746, 832])"
   ]
  },
  {
   "cell_type": "markdown",
   "metadata": {},
   "source": [
    "1. Находим средние значения переменных"
   ]
  },
  {
   "cell_type": "code",
   "execution_count": 3,
   "metadata": {},
   "outputs": [],
   "source": [
    "mean_zp = np.mean(zp)\n",
    "mean_ks = np.mean(ks)"
   ]
  },
  {
   "cell_type": "markdown",
   "metadata": {},
   "source": [
    "2. Вычисляем ковариацию"
   ]
  },
  {
   "cell_type": "code",
   "execution_count": 4,
   "metadata": {},
   "outputs": [],
   "source": [
    "covariance_manual = np.sum((zp - mean_zp) * (ks - mean_ks)) / (len(zp) - 1)"
   ]
  },
  {
   "cell_type": "markdown",
   "metadata": {},
   "source": [
    "3. Вычисляем среднеквадратичные отклонения"
   ]
  },
  {
   "cell_type": "code",
   "execution_count": 5,
   "metadata": {},
   "outputs": [],
   "source": [
    "std_zp = np.std(zp, ddof=1)  # ddof=1 для вычисления выборочной дисперсии\n",
    "std_ks = np.std(ks, ddof=1)"
   ]
  },
  {
   "cell_type": "markdown",
   "metadata": {},
   "source": [
    "4. Вычисляем коэффициент корреляции Пирсона"
   ]
  },
  {
   "cell_type": "code",
   "execution_count": 6,
   "metadata": {},
   "outputs": [
    {
     "name": "stdout",
     "output_type": "stream",
     "text": [
      "Ковариация (вычисленная вручную): 10175.37777777778\n",
      "Коэффициент корреляции Пирсона (вычисленный вручную): 0.8874900920739164\n"
     ]
    }
   ],
   "source": [
    "correlation_manual = covariance_manual / (std_zp * std_ks)\n",
    "# Вывод результатов\n",
    "print(\"Ковариация (вычисленная вручную):\", covariance_manual)\n",
    "print(\"Коэффициент корреляции Пирсона (вычисленный вручную):\", correlation_manual)"
   ]
  },
  {
   "cell_type": "code",
   "execution_count": 7,
   "metadata": {},
   "outputs": [
    {
     "name": "stdout",
     "output_type": "stream",
     "text": [
      "Ковариация (вычисленная с помощью функции cov из библиотеки NumPy): 10175.377777777776\n",
      "Коэффициент корреляции Пирсона (вычисленный с помощью функций из библиотеки NumPy): 0.8874900920739162\n"
     ]
    }
   ],
   "source": [
    "# Находим ковариацию с помощью функции cov из библиотеки NumPy\n",
    "covariance_numpy = np.cov(zp, ks, ddof=1)[0, 1]\n",
    "# Вывод результата ковариации с помощью функции cov из библиотеки NumPy\n",
    "print(\"Ковариация (вычисленная с помощью функции cov из библиотеки NumPy):\", covariance_numpy)\n",
    "# Находим коэффициент корреляции Пирсона с помощью функций из библиотеки NumPy\n",
    "correlation_numpy = np.corrcoef(zp, ks)[0, 1]\n",
    "# Вывод результата коэффициента корреляции Пирсона с помощью функций из библиотеки NumPy\n",
    "print(\"Коэффициент корреляции Пирсона (вычисленный с помощью функций из библиотеки NumPy):\", correlation_numpy)"
   ]
  },
  {
   "cell_type": "code",
   "execution_count": 8,
   "metadata": {},
   "outputs": [
    {
     "name": "stdout",
     "output_type": "stream",
     "text": [
      "Коэффициент корреляции Пирсона (вычисленный с помощью функций из библиотеки Pandas): 0.8874900920739162\n"
     ]
    }
   ],
   "source": [
    "# Создаем DataFrame из данных\n",
    "data = pd.DataFrame({'zp': zp, 'ks': ks})\n",
    "# Вычисляем корреляцию\n",
    "correlation_pandas = data['zp'].corr(data['ks'])\n",
    "# Вывод результата коэффициента корреляции Пирсона с использованием функций из библиотеки Pandas\n",
    "print(\"Коэффициент корреляции Пирсона (вычисленный с помощью функций из библиотеки Pandas):\", correlation_pandas)"
   ]
  },
  {
   "cell_type": "markdown",
   "metadata": {},
   "source": [
    "Измерены значения IQ выборки студентов, обучающихся в местных технических вузах: 131, 125, 115, 122, 131, 115, 107, 99, 125, 111. Известно, что в генеральной совокупности IQ распределен нормально. Найдите доверительный интервал для математического ожидания с надежностью 0.95"
   ]
  },
  {
   "cell_type": "code",
   "execution_count": 9,
   "metadata": {},
   "outputs": [],
   "source": [
    "from scipy.stats import t"
   ]
  },
  {
   "cell_type": "code",
   "execution_count": 10,
   "metadata": {},
   "outputs": [
    {
     "name": "stdout",
     "output_type": "stream",
     "text": [
      "Доверительный интервал для математического ожидания с надежностью 0.95\n",
      "Нижняя граница: 110.55608365121006\n",
      "Верхняя граница: 125.64391634878993\n"
     ]
    }
   ],
   "source": [
    "\n",
    "# Заданные значения IQ выборки\n",
    "iq_values = np.array([131, 125, 115, 122, 131, 115, 107, 99, 125, 111])\n",
    "# Размер выборки\n",
    "n = len(iq_values)\n",
    "# Уровень доверия\n",
    "confidence_level = 0.95\n",
    "# Найдем среднее и стандартное отклонение выборки\n",
    "mean_iq = np.mean(iq_values)\n",
    "std_iq = np.std(iq_values, ddof=1)  # исправленное стандартное отклонение для выборки\n",
    "# Найдем критическое значение t-статистики для заданного уровня доверия и степеней свободы (n-1)\n",
    "t_critical = t.ppf(1 - (1 - confidence_level) / 2, df=n - 1)\n",
    "# Найдем стандартную ошибку среднего\n",
    "standard_error = std_iq / np.sqrt(n)\n",
    "# Найдем предел погрешности\n",
    "margin_of_error = t_critical * standard_error\n",
    "# Найдем нижнюю и верхнюю границы доверительного интервала\n",
    "lower_bound = mean_iq - margin_of_error\n",
    "upper_bound = mean_iq + margin_of_error\n",
    "\n",
    "# Вывод результатов\n",
    "print(\"Доверительный интервал для математического ожидания с надежностью\", confidence_level)\n",
    "print(\"Нижняя граница:\", lower_bound)\n",
    "print(\"Верхняя граница:\", upper_bound)"
   ]
  },
  {
   "cell_type": "markdown",
   "metadata": {},
   "source": [
    "Известно, что рост футболистов в сборной распределен нормально с дисперсией генеральной совокупности, равной 25 кв.см. Объем выборки равен 27, среднее выборочное составляет 174.2. Найдите доверительный интервал для математического ожидания с надежностью 0.95"
   ]
  },
  {
   "cell_type": "code",
   "execution_count": 11,
   "metadata": {},
   "outputs": [
    {
     "name": "stdout",
     "output_type": "stream",
     "text": [
      "Доверительный интервал для математического ожидания с надежностью 0.95\n",
      "Нижняя граница: 172.2220658754539\n",
      "Верхняя граница: 176.17793412454608\n"
     ]
    }
   ],
   "source": [
    "# Заданные значения\n",
    "n = 27  # Размер выборки\n",
    "sigma = np.sqrt(25)  # Стандартное отклонение генеральной совокупности\n",
    "mean_sample = 174.2  # Среднее выборочное\n",
    "confidence_level = 0.95  # Уровень доверия\n",
    "\n",
    "# Найдем критическое значение t-статистики для заданного уровня доверия и степеней свободы (n-1)\n",
    "t_critical = t.ppf(1 - (1 - confidence_level) / 2, df=n - 1)\n",
    "\n",
    "# Найдем стандартную ошибку среднего\n",
    "standard_error = sigma / np.sqrt(n)\n",
    "\n",
    "# Найдем предел погрешности\n",
    "margin_of_error = t_critical * standard_error\n",
    "\n",
    "# Найдем нижнюю и верхнюю границы доверительного интервала\n",
    "lower_bound = mean_sample - margin_of_error\n",
    "upper_bound = mean_sample + margin_of_error\n",
    "\n",
    "# Выведем результаты\n",
    "print(\"Доверительный интервал для математического ожидания с надежностью\", confidence_level)\n",
    "print(\"Нижняя граница:\", lower_bound)\n",
    "print(\"Верхняя граница:\", upper_bound)"
   ]
  }
 ],
 "metadata": {
  "kernelspec": {
   "display_name": "analysis-eCDEBr3D",
   "language": "python",
   "name": "python3"
  },
  "language_info": {
   "codemirror_mode": {
    "name": "ipython",
    "version": 3
   },
   "file_extension": ".py",
   "mimetype": "text/x-python",
   "name": "python",
   "nbconvert_exporter": "python",
   "pygments_lexer": "ipython3",
   "version": "3.12.0"
  }
 },
 "nbformat": 4,
 "nbformat_minor": 2
}
