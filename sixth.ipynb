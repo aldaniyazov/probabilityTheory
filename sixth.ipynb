{
 "cells": [
  {
   "cell_type": "markdown",
   "metadata": {},
   "source": [
    "Известно, что генеральная совокупность распределена нормально со средним квадратическим отклонением, равным 16. Найти доверительный интервал для оценки математического ожидания a с надежностью 0.95, если выборочная средняя M = 80, а объем выборки n = 256."
   ]
  },
  {
   "cell_type": "code",
   "execution_count": 1,
   "metadata": {},
   "outputs": [],
   "source": [
    "import scipy.stats as stats"
   ]
  },
  {
   "cell_type": "code",
   "execution_count": 2,
   "metadata": {},
   "outputs": [
    {
     "name": "stdout",
     "output_type": "stream",
     "text": [
      "Доверительный интервал для оценки математического ожидания с надежностью 0.95:\n",
      "Нижняя граница: 78.04003601545995\n",
      "Верхняя граница: 81.95996398454005\n"
     ]
    }
   ],
   "source": [
    "# Заданные параметры\n",
    "sigma = 16  # стандартное отклонение генеральной совокупности\n",
    "x_bar = 80  # выборочное среднее\n",
    "n = 256  # размер выборки\n",
    "alpha = 0.05  # уровень значимости\n",
    "\n",
    "# Рассчитываем критическое значение z_alpha/2\n",
    "z_critical = stats.norm.ppf(1 - alpha/2)\n",
    "\n",
    "# Рассчитываем доверительный интервал\n",
    "margin_of_error = z_critical * (sigma / (n ** 0.5))\n",
    "confidence_interval = (x_bar - margin_of_error, x_bar + margin_of_error)\n",
    "\n",
    "# Выводим результаты\n",
    "print(\"Доверительный интервал для оценки математического ожидания с надежностью 0.95:\")\n",
    "print(\"Нижняя граница:\", confidence_interval[0])\n",
    "print(\"Верхняя граница:\", confidence_interval[1])"
   ]
  },
  {
   "cell_type": "markdown",
   "metadata": {},
   "source": [
    "В результате 10 независимых измерений некоторой величины X, выполненных с одинаковой точностью, получены опытные данные: 6.9, 6.1, 6.2, 6.8, 7.5, 6.3, 6.4, 6.9, 6.7, 6.1 Предполагая, что результаты измерений подчинены нормальному закону распределения вероятностей, оценить истинное значение величины X при помощи доверительного интервала, покрывающего это значение с доверительной вероятностью 0,95. 3.Рост дочерей 175, 167, 154, 174, 178, 148, 160, 167, 169, 170 Рост матерей  178, 165, 165, 173, 168, 155, 160, 164, 178, 175 Используя эти данные построить 95% доверительный интервал для разности среднего роста родителей и детей."
   ]
  },
  {
   "cell_type": "code",
   "execution_count": 3,
   "metadata": {},
   "outputs": [],
   "source": [
    "import numpy as np\n",
    "import scipy.stats as stats"
   ]
  },
  {
   "cell_type": "code",
   "execution_count": 4,
   "metadata": {},
   "outputs": [
    {
     "name": "stdout",
     "output_type": "stream",
     "text": [
      "95% доверительный интервал для разности средних роста детей и родителей: (-10.068418034506857, 6.268418034506846)\n"
     ]
    }
   ],
   "source": [
    "# Заданные данные\n",
    "children_heights = np.array([175, 167, 154, 174, 178, 148, 160, 167, 169, 170])\n",
    "mothers_heights = np.array([178, 165, 165, 173, 168, 155, 160, 164, 178, 175])\n",
    "\n",
    "# Расчет средних значений и стандартных отклонений\n",
    "mean_children = np.mean(children_heights)\n",
    "mean_mothers = np.mean(mothers_heights)\n",
    "std_children = np.std(children_heights, ddof=1)\n",
    "std_mothers = np.std(mothers_heights, ddof=1)\n",
    "\n",
    "# Расчет размеров выборок\n",
    "n1 = len(children_heights)\n",
    "n2 = len(mothers_heights)\n",
    "\n",
    "# Расчет степеней свободы\n",
    "df = n1 + n2 - 2\n",
    "\n",
    "# Расчет критического значения t-статистики\n",
    "alpha = 0.05  # уровень значимости\n",
    "t_critical = stats.t.ppf(1 - alpha/2, df)\n",
    "\n",
    "# Расчет доверительного интервала для разности средних\n",
    "margin_of_error = t_critical * np.sqrt((std_children**2 / n1) + (std_mothers**2 / n2))\n",
    "confidence_interval = (mean_children - mean_mothers - margin_of_error, mean_children - mean_mothers + margin_of_error)\n",
    "\n",
    "# Вывод результатов\n",
    "print(\"95% доверительный интервал для разности средних роста детей и родителей:\", confidence_interval)"
   ]
  }
 ],
 "metadata": {
  "kernelspec": {
   "display_name": "analysis-eCDEBr3D",
   "language": "python",
   "name": "python3"
  },
  "language_info": {
   "codemirror_mode": {
    "name": "ipython",
    "version": 3
   },
   "file_extension": ".py",
   "mimetype": "text/x-python",
   "name": "python",
   "nbconvert_exporter": "python",
   "pygments_lexer": "ipython3",
   "version": "3.12.0"
  }
 },
 "nbformat": 4,
 "nbformat_minor": 2
}
