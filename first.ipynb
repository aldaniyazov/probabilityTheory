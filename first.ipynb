{
 "cells": [
  {
   "cell_type": "code",
   "execution_count": 3,
   "metadata": {},
   "outputs": [],
   "source": [
    "import math"
   ]
  },
  {
   "cell_type": "markdown",
   "metadata": {},
   "source": [
    "Функция для вычисления количества сочетаний C(n, k)"
   ]
  },
  {
   "cell_type": "code",
   "execution_count": 4,
   "metadata": {},
   "outputs": [],
   "source": [
    "def combinations(n, k):\n",
    "    return math.factorial(n) / (math.factorial(k) * math.factorial(n - k))"
   ]
  },
  {
   "cell_type": "markdown",
   "metadata": {},
   "source": [
    "a) Найти вероятность того, что все карты – крести"
   ]
  },
  {
   "cell_type": "code",
   "execution_count": 5,
   "metadata": {},
   "outputs": [],
   "source": [
    "def probability_all_hearts():\n",
    "    # Количество благоприятных исходов - выбрать 4 карты из 13 крестовых\n",
    "    favorable_outcomes = combinations(13, 4)\n",
    "    # Всего способов выбрать 4 карты из 52\n",
    "    total_outcomes = combinations(52, 4)\n",
    "    # Вероятность\n",
    "    probability = favorable_outcomes / total_outcomes\n",
    "    return probability"
   ]
  },
  {
   "cell_type": "markdown",
   "metadata": {},
   "source": [
    "б) Найти вероятность, что среди 4-х карт окажется хотя бы один туз"
   ]
  },
  {
   "cell_type": "code",
   "execution_count": 6,
   "metadata": {},
   "outputs": [],
   "source": [
    "def probability_at_least_one_ace():\n",
    "    # Количество благоприятных исходов - 4 карты без тузов\n",
    "    favorable_outcomes = combinations(48, 4)\n",
    "    # Всего способов выбрать 4 карты из 52\n",
    "    total_outcomes = combinations(52, 4)\n",
    "    # Вероятность отсутствия тузов\n",
    "    probability_no_ace = favorable_outcomes / total_outcomes\n",
    "    # Вероятность наличия хотя бы одного туза\n",
    "    probability = 1 - probability_no_ace\n",
    "    return probability"
   ]
  },
  {
   "cell_type": "markdown",
   "metadata": {},
   "source": [
    "Вызываем функции и выводим результаты"
   ]
  },
  {
   "cell_type": "code",
   "execution_count": 7,
   "metadata": {},
   "outputs": [
    {
     "name": "stdout",
     "output_type": "stream",
     "text": [
      "Вероятность того, что все карты – крести: 0.0026410564225690276\n",
      "Вероятность, что среди 4-х карт окажется хотя бы один туз: 0.2812632745405854\n"
     ]
    }
   ],
   "source": [
    "print(\"Вероятность того, что все карты – крести:\", probability_all_hearts())\n",
    "print(\"Вероятность, что среди 4-х карт окажется хотя бы один туз:\", probability_at_least_one_ace())"
   ]
  },
  {
   "cell_type": "markdown",
   "metadata": {},
   "source": [
    "2. На входной двери подъезда установлен кодовый замок, содержащий десять кнопок с цифрами от 0 до 9. Код содержит три цифры, которые нужно нажать одновременно. Какова вероятность того, что человек, не знающий код, откроет дверь с первой попытки? "
   ]
  },
  {
   "cell_type": "code",
   "execution_count": 8,
   "metadata": {},
   "outputs": [],
   "source": [
    "# Функция для вычисления количества сочетаний C(n, k)\n",
    "def combinations(n, k):\n",
    "    return math.factorial(n) / (math.factorial(k) * math.factorial(n - k))\n",
    "\n",
    "# Вероятность открыть дверь с первой попытки\n",
    "def probability_first_try():\n",
    "    # Количество благоприятных исходов - 1 правильная комбинация\n",
    "    favorable_outcomes = 1\n",
    "    # Всего способов выбрать 3 цифры из 10\n",
    "    total_outcomes = combinations(10, 3)\n",
    "    # Вероятность\n",
    "    probability = favorable_outcomes / total_outcomes\n",
    "    return probability"
   ]
  },
  {
   "cell_type": "code",
   "execution_count": 9,
   "metadata": {},
   "outputs": [
    {
     "name": "stdout",
     "output_type": "stream",
     "text": [
      "Вероятность открыть дверь с первой попытки: 0.008333333333333333\n"
     ]
    }
   ],
   "source": [
    "# Вызываем функцию и выводим результат\n",
    "print(\"Вероятность открыть дверь с первой попытки:\", probability_first_try())"
   ]
  },
  {
   "cell_type": "markdown",
   "metadata": {},
   "source": [
    "3. В ящике имеется 15 деталей, из которых 9 окрашены. Рабочий случайным образом извлекает 3 детали. Какова вероятность того, что все извлеченные детали окрашены?"
   ]
  },
  {
   "cell_type": "code",
   "execution_count": null,
   "metadata": {},
   "outputs": [],
   "source": [
    "# Функция для вычисления количества сочетаний C(n, k)\n",
    "def combinations(n, k):\n",
    "    return math.factorial(n) / (math.factorial(k) * math.factorial(n - k))\n",
    "\n",
    "# 3. Вероятность того, что все извлеченные детали окрашены\n",
    "def probability_all_painted():\n",
    "    # Количество благоприятных исходов - выбрать 3 окрашенные детали из 9\n",
    "    favorable_outcomes = combinations(9, 3)\n",
    "    # Всего способов выбрать 3 детали из 15\n",
    "    total_outcomes = combinations(15, 3)\n",
    "    # Вероятность\n",
    "    probability = favorable_outcomes / total_outcomes\n",
    "    return probability"
   ]
  },
  {
   "cell_type": "markdown",
   "metadata": {},
   "source": [
    "4. В лотерее 100 билетов. Из них 2 выигрышных. Какова вероятность того, что 2 приобретенных билета окажутся выигрышными?"
   ]
  },
  {
   "cell_type": "code",
   "execution_count": 10,
   "metadata": {},
   "outputs": [],
   "source": [
    "# Функция для вычисления количества сочетаний C(n, k)\n",
    "def combinations(n, k):\n",
    "    return math.factorial(n) / (math.factorial(k) * math.factorial(n - k))"
   ]
  },
  {
   "cell_type": "code",
   "execution_count": 11,
   "metadata": {},
   "outputs": [],
   "source": [
    "# 3. Вероятность того, что все извлеченные детали окрашены\n",
    "def probability_all_painted():\n",
    "    # Количество благоприятных исходов - выбрать 3 окрашенные детали из 9\n",
    "    favorable_outcomes = combinations(9, 3)\n",
    "    # Всего способов выбрать 3 детали из 15\n",
    "    total_outcomes = combinations(15, 3)\n",
    "    # Вероятность\n",
    "    probability = favorable_outcomes / total_outcomes\n",
    "    return probability"
   ]
  },
  {
   "cell_type": "code",
   "execution_count": 12,
   "metadata": {},
   "outputs": [],
   "source": [
    "# 4. Вероятность того, что 2 приобретенных билета окажутся выигрышными\n",
    "def probability_both_tickets_winning():\n",
    "    # Вероятность выбрать 2 выигрышных билета из 2\n",
    "    favorable_outcomes = combinations(2, 2)\n",
    "    # Всего способов выбрать 2 билета из 100\n",
    "    total_outcomes = combinations(100, 2)\n",
    "    # Вероятность\n",
    "    probability = favorable_outcomes / total_outcomes\n",
    "    return probability"
   ]
  },
  {
   "cell_type": "code",
   "execution_count": 13,
   "metadata": {},
   "outputs": [
    {
     "name": "stdout",
     "output_type": "stream",
     "text": [
      "Вероятность того, что все извлеченные детали окрашены: 0.18461538461538463\n",
      "Вероятность того, что 2 приобретенных билета окажутся выигрышными: 0.00020202020202020202\n"
     ]
    }
   ],
   "source": [
    "# Вызываем функции и выводим результаты\n",
    "print(\"Вероятность того, что все извлеченные детали окрашены:\", probability_all_painted())\n",
    "print(\"Вероятность того, что 2 приобретенных билета окажутся выигрышными:\", probability_both_tickets_winning())"
   ]
  },
  {
   "cell_type": "code",
   "execution_count": null,
   "metadata": {},
   "outputs": [],
   "source": []
  }
 ],
 "metadata": {
  "kernelspec": {
   "display_name": "geekbrains-twKy_2Cx",
   "language": "python",
   "name": "python3"
  },
  "language_info": {
   "codemirror_mode": {
    "name": "ipython",
    "version": 3
   },
   "file_extension": ".py",
   "mimetype": "text/x-python",
   "name": "python",
   "nbconvert_exporter": "python",
   "pygments_lexer": "ipython3",
   "version": "3.12.0"
  }
 },
 "nbformat": 4,
 "nbformat_minor": 2
}
