{
 "cells": [
  {
   "cell_type": "code",
   "execution_count": 1,
   "metadata": {},
   "outputs": [],
   "source": [
    "import math"
   ]
  },
  {
   "cell_type": "markdown",
   "metadata": {},
   "source": [
    "Функция для вычисления количества сочетаний C(n, k)"
   ]
  },
  {
   "cell_type": "code",
   "execution_count": 2,
   "metadata": {},
   "outputs": [],
   "source": [
    "def combinations(n, k):\n",
    "    return math.factorial(n) / (math.factorial(k) * math.factorial(n - k))"
   ]
  },
  {
   "cell_type": "markdown",
   "metadata": {},
   "source": [
    "a) Найти вероятность того, что все карты – крести"
   ]
  },
  {
   "cell_type": "code",
   "execution_count": 3,
   "metadata": {},
   "outputs": [],
   "source": [
    "def probability_all_hearts():\n",
    "    # Количество благоприятных исходов - выбрать 4 карты из 13 крестовых\n",
    "    favorable_outcomes = combinations(13, 4)\n",
    "    # Всего способов выбрать 4 карты из 52\n",
    "    total_outcomes = combinations(52, 4)\n",
    "    # Вероятность\n",
    "    probability = favorable_outcomes / total_outcomes\n",
    "    return probability"
   ]
  },
  {
   "cell_type": "markdown",
   "metadata": {},
   "source": [
    "б) Найти вероятность, что среди 4-х карт окажется хотя бы один туз"
   ]
  },
  {
   "cell_type": "code",
   "execution_count": 4,
   "metadata": {},
   "outputs": [],
   "source": [
    "def probability_at_least_one_ace():\n",
    "    # Количество благоприятных исходов - 4 карты без тузов\n",
    "    favorable_outcomes = combinations(48, 4)\n",
    "    # Всего способов выбрать 4 карты из 52\n",
    "    total_outcomes = combinations(52, 4)\n",
    "    # Вероятность отсутствия тузов\n",
    "    probability_no_ace = favorable_outcomes / total_outcomes\n",
    "    # Вероятность наличия хотя бы одного туза\n",
    "    probability = 1 - probability_no_ace\n",
    "    return probability"
   ]
  },
  {
   "cell_type": "markdown",
   "metadata": {},
   "source": [
    "Вызываем функции и выводим результаты"
   ]
  },
  {
   "cell_type": "code",
   "execution_count": 5,
   "metadata": {},
   "outputs": [
    {
     "name": "stdout",
     "output_type": "stream",
     "text": [
      "Вероятность того, что все карты – крести: 0.0026410564225690276\n",
      "Вероятность, что среди 4-х карт окажется хотя бы один туз: 0.2812632745405854\n"
     ]
    }
   ],
   "source": [
    "print(\"Вероятность того, что все карты – крести:\", probability_all_hearts())\n",
    "print(\"Вероятность, что среди 4-х карт окажется хотя бы один туз:\", probability_at_least_one_ace())"
   ]
  }
 ],
 "metadata": {
  "kernelspec": {
   "display_name": "geekbrains-twKy_2Cx",
   "language": "python",
   "name": "python3"
  },
  "language_info": {
   "codemirror_mode": {
    "name": "ipython",
    "version": 3
   },
   "file_extension": ".py",
   "mimetype": "text/x-python",
   "name": "python",
   "nbconvert_exporter": "python",
   "pygments_lexer": "ipython3",
   "version": "3.12.0"
  }
 },
 "nbformat": 4,
 "nbformat_minor": 2
}
