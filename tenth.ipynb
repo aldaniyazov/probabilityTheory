{
 "cells": [
  {
   "cell_type": "markdown",
   "metadata": {},
   "source": [
    "Провести дисперсионный анализ для определения того, есть ли различия среднего роста среди взрослых футболистов, хоккеистов и штангистов. Даны значения роста в трех группах случайно выбранных спортсменов: Футболисты: 173, 175, 180, 178, 177, 185, 183, 182. Хоккеисты: 177, 179, 180, 188, 177, 172, 171, 184, 180. Штангисты: 172, 173, 169, 177, 166, 180, 178, 177, 172, 166, 170. Данная промежуточная аттестация оценивается по системе \"зачет\" / \"не зачет\". \"Зачет\" ставится, если Слушатель успешно выполнил задание. \"Незачет\" ставится, если Слушатель не выполнил задание. Критерии оценивания: 1 - Слушатель провел дисперсионный анализ для определения того, есть ли различия среднего роста среди взрослых футболистов, хоккеистов и штангистов."
   ]
  },
  {
   "cell_type": "code",
   "execution_count": 1,
   "metadata": {},
   "outputs": [],
   "source": [
    "import numpy as np\n",
    "from scipy import stats"
   ]
  },
  {
   "cell_type": "code",
   "execution_count": 2,
   "metadata": {},
   "outputs": [],
   "source": [
    "# Рост взрослых футболистов, хоккеистов и штангистов\n",
    "football_heights = np.array([173, 175, 180, 178, 177, 185, 183, 182])\n",
    "hockey_heights = np.array([177, 179, 180, 188, 177, 172, 171, 184, 180])\n",
    "weightlifting_heights = np.array([172, 173, 169, 177, 166, 180, 178, 177, 172, 166, 170])"
   ]
  },
  {
   "cell_type": "markdown",
   "metadata": {},
   "source": [
    "Шаг 1: Посчитаем средний рост в каждой группе."
   ]
  },
  {
   "cell_type": "code",
   "execution_count": 3,
   "metadata": {},
   "outputs": [
    {
     "name": "stdout",
     "output_type": "stream",
     "text": [
      "Средний рост футболистов: 179.125\n",
      "Средний рост хоккеистов: 178.66666666666666\n",
      "Средний рост штангистов: 172.72727272727272\n"
     ]
    }
   ],
   "source": [
    "# Средний рост в каждой группе\n",
    "mean_football_height = np.mean(football_heights)\n",
    "mean_hockey_height = np.mean(hockey_heights)\n",
    "mean_weightlifting_height = np.mean(weightlifting_heights)\n",
    "\n",
    "print(\"Средний рост футболистов:\", mean_football_height)\n",
    "print(\"Средний рост хоккеистов:\", mean_hockey_height)\n",
    "print(\"Средний рост штангистов:\", mean_weightlifting_height)"
   ]
  },
  {
   "cell_type": "markdown",
   "metadata": {},
   "source": [
    "Шаг 2: Посчитаем общую среднюю высоту."
   ]
  },
  {
   "cell_type": "code",
   "execution_count": 4,
   "metadata": {},
   "outputs": [
    {
     "name": "stdout",
     "output_type": "stream",
     "text": [
      "Общая средняя высота: 176.46428571428572\n"
     ]
    }
   ],
   "source": [
    "# Общая средняя высота\n",
    "overall_mean_height = np.mean(np.concatenate([football_heights, hockey_heights, weightlifting_heights]))\n",
    "print(\"Общая средняя высота:\", overall_mean_height)"
   ]
  },
  {
   "cell_type": "markdown",
   "metadata": {},
   "source": [
    "Шаг 3: Посчитаем сумму квадратов отклонений наблюдений от общей средней."
   ]
  },
  {
   "cell_type": "code",
   "execution_count": 5,
   "metadata": {},
   "outputs": [
    {
     "name": "stdout",
     "output_type": "stream",
     "text": [
      "Сумма квадратов отклонений наблюдений от общей средней (SS Total): 830.9642857142854\n"
     ]
    }
   ],
   "source": [
    "# Сумма квадратов отклонений наблюдений от общей средней\n",
    "ss_total = np.sum((np.concatenate([football_heights, hockey_heights, weightlifting_heights]) - overall_mean_height) ** 2)\n",
    "print(\"Сумма квадратов отклонений наблюдений от общей средней (SS Total):\", ss_total)"
   ]
  },
  {
   "cell_type": "markdown",
   "metadata": {},
   "source": [
    "Шаг 4: Посчитаем сумму квадратов отклонений средних групповых значений от общей средней."
   ]
  },
  {
   "cell_type": "code",
   "execution_count": 6,
   "metadata": {},
   "outputs": [
    {
     "name": "stdout",
     "output_type": "stream",
     "text": [
      "Сумма квадратов отклонений средних групповых значений от общей средней (SS Between): 253.9074675324678\n"
     ]
    }
   ],
   "source": [
    "# Количество наблюдений в каждой группе\n",
    "n_football = len(football_heights)\n",
    "n_hockey = len(hockey_heights)\n",
    "n_weightlifting = len(weightlifting_heights)\n",
    "\n",
    "# Сумма квадратов отклонений средних групповых значений от общей средней\n",
    "ss_between = n_football * (mean_football_height - overall_mean_height) ** 2 + \\\n",
    "             n_hockey * (mean_hockey_height - overall_mean_height) ** 2 + \\\n",
    "             n_weightlifting * (mean_weightlifting_height - overall_mean_height) ** 2\n",
    "\n",
    "print(\"Сумма квадратов отклонений средних групповых значений от общей средней (SS Between):\", ss_between)"
   ]
  },
  {
   "cell_type": "markdown",
   "metadata": {},
   "source": [
    "Шаг 5: Посчитаем факторную дисперсию."
   ]
  },
  {
   "cell_type": "code",
   "execution_count": 7,
   "metadata": {},
   "outputs": [
    {
     "name": "stdout",
     "output_type": "stream",
     "text": [
      "Факторная дисперсия (межгрупповая дисперсия): 126.9537337662339\n"
     ]
    }
   ],
   "source": [
    "# Факторная дисперсия (межгрупповая дисперсия)\n",
    "df_between = 2  # количество групп минус один\n",
    "ms_between = ss_between / df_between\n",
    "print(\"Факторная дисперсия (межгрупповая дисперсия):\", ms_between)"
   ]
  },
  {
   "cell_type": "markdown",
   "metadata": {},
   "source": [
    "Шаг 6: Посчитаем остаточную дисперсию."
   ]
  },
  {
   "cell_type": "code",
   "execution_count": 8,
   "metadata": {},
   "outputs": [
    {
     "name": "stdout",
     "output_type": "stream",
     "text": [
      "Остаточная дисперсия (внутригрупповая дисперсия): 23.08227272727273\n"
     ]
    }
   ],
   "source": [
    "# Остаточная дисперсия (внутригрупповая дисперсия)\n",
    "ss_within = np.sum((football_heights - mean_football_height) ** 2) + \\\n",
    "            np.sum((hockey_heights - mean_hockey_height) ** 2) + \\\n",
    "            np.sum((weightlifting_heights - mean_weightlifting_height) ** 2)\n",
    "\n",
    "df_within = n_football + n_hockey + n_weightlifting - 3  # общее количество наблюдений минус количество групп\n",
    "ms_within = ss_within / df_within\n",
    "print(\"Остаточная дисперсия (внутригрупповая дисперсия):\", ms_within)"
   ]
  },
  {
   "cell_type": "markdown",
   "metadata": {},
   "source": [
    "Шаг 7: Посчитаем значение статистики F."
   ]
  },
  {
   "cell_type": "code",
   "execution_count": 9,
   "metadata": {},
   "outputs": [
    {
     "name": "stdout",
     "output_type": "stream",
     "text": [
      "Значение статистики F: 5.500053450812598\n"
     ]
    }
   ],
   "source": [
    "# Значение статистики F\n",
    "f_value = ms_between / ms_within\n",
    "print(\"Значение статистики F:\", f_value)"
   ]
  },
  {
   "cell_type": "markdown",
   "metadata": {},
   "source": [
    "### Второй вариант"
   ]
  },
  {
   "cell_type": "code",
   "execution_count": 10,
   "metadata": {},
   "outputs": [
    {
     "name": "stdout",
     "output_type": "stream",
     "text": [
      "Средний рост футболистов: 179.125\n",
      "Средний рост хоккеистов: 178.66666666666666\n",
      "Средний рост штангистов: 172.72727272727272\n",
      "\n",
      "Результаты дисперсионного анализа:\n",
      "F-статистика: 5.500053450812596\n",
      "p-значение: 0.010482206918698694\n",
      "\n",
      "Есть статистически значимые различия между средними значениями роста в группах.\n"
     ]
    }
   ],
   "source": [
    "import numpy as np\n",
    "from scipy.stats import f_oneway\n",
    "\n",
    "# Заданные значения роста для каждой группы спортсменов\n",
    "football_players = np.array([173, 175, 180, 178, 177, 185, 183, 182])\n",
    "hockey_players = np.array([177, 179, 180, 188, 177, 172, 171, 184, 180])\n",
    "weightlifters = np.array([172, 173, 169, 177, 166, 180, 178, 177, 172, 166, 170])\n",
    "\n",
    "# Вычисление среднего роста в каждой группе\n",
    "mean_football = np.mean(football_players)\n",
    "mean_hockey = np.mean(hockey_players)\n",
    "mean_weightlifting = np.mean(weightlifters)\n",
    "\n",
    "# Выполнение дисперсионного анализа\n",
    "f_statistic, p_value = f_oneway(football_players, hockey_players, weightlifters)\n",
    "\n",
    "# Вывод результатов\n",
    "print(\"Средний рост футболистов:\", mean_football)\n",
    "print(\"Средний рост хоккеистов:\", mean_hockey)\n",
    "print(\"Средний рост штангистов:\", mean_weightlifting)\n",
    "print(\"\\nРезультаты дисперсионного анализа:\")\n",
    "print(\"F-статистика:\", f_statistic)\n",
    "print(\"p-значение:\", p_value)\n",
    "\n",
    "# Определение статистической значимости различий\n",
    "alpha = 0.05\n",
    "if p_value < alpha:\n",
    "    print(\"\\nЕсть статистически значимые различия между средними значениями роста в группах.\")\n",
    "else:\n",
    "    print(\"\\nНет статистически значимых различий между средними значениями роста в группах.\")"
   ]
  },
  {
   "cell_type": "markdown",
   "metadata": {},
   "source": [
    "Этот код вычисляет средний рост для каждой группы спортсменов, выполняет дисперсионный анализ и выводит результаты, включая F-статистику и p-значение. На основе уровня значимости alpha выводится заключение о наличии статистически значимых различий между средними значениями роста в группах."
   ]
  }
 ],
 "metadata": {
  "kernelspec": {
   "display_name": "analysis-eCDEBr3D",
   "language": "python",
   "name": "python3"
  },
  "language_info": {
   "codemirror_mode": {
    "name": "ipython",
    "version": 3
   },
   "file_extension": ".py",
   "mimetype": "text/x-python",
   "name": "python",
   "nbconvert_exporter": "python",
   "pygments_lexer": "ipython3",
   "version": "3.12.0"
  }
 },
 "nbformat": 4,
 "nbformat_minor": 2
}
