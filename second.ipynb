{
 "cells": [
  {
   "cell_type": "code",
   "execution_count": 1,
   "metadata": {},
   "outputs": [],
   "source": [
    "import math"
   ]
  },
  {
   "cell_type": "markdown",
   "metadata": {},
   "source": [
    "1. Вероятность того, что стрелок попадет в мишень, выстрелив один раз, равна 0.8. Стрелок выстрелил 100 раз. Найдите вероятность того, что стрелок попадет в цель ровно 85 раз."
   ]
  },
  {
   "cell_type": "code",
   "execution_count": 4,
   "metadata": {},
   "outputs": [
    {
     "name": "stdout",
     "output_type": "stream",
     "text": [
      "Вероятность того, что стрелок попадет в цель ровно 85 раз: 0.048061793700746355\n"
     ]
    }
   ],
   "source": [
    "# Функция для вычисления количества сочетаний C(n, k)\n",
    "def combinations(n, k):\n",
    "    return math.factorial(n) / (math.factorial(k) * math.factorial(n - k))\n",
    "\n",
    "# Вероятность попадания в одном испытании\n",
    "p = 0.8\n",
    "# Количество испытаний (выстрелов)\n",
    "n = 100\n",
    "# Количество успехов (попаданий)\n",
    "k = 85\n",
    "\n",
    "# Вычисление вероятности попадания ровно k раз\n",
    "probability = combinations(n, k) * (p ** k) * ((1 - p) ** (n - k))\n",
    "\n",
    "print(\"Вероятность того, что стрелок попадет в цель ровно 85 раз:\", probability)"
   ]
  },
  {
   "cell_type": "markdown",
   "metadata": {},
   "source": [
    "2. Вероятность того, что лампочка перегорит в течение первого дня эксплуатации, равна 0.0004. В жилом комплексе после ремонта в один день включили 5000 новых лампочек. Какова вероятность, что ни одна из них не перегорит в первый день? Какова вероятность, что перегорят ровно две?"
   ]
  },
  {
   "cell_type": "code",
   "execution_count": 5,
   "metadata": {},
   "outputs": [
    {
     "name": "stdout",
     "output_type": "stream",
     "text": [
      "Вероятность того, что ни одна из лампочек не перегорит в первый день: 0.1353352832366127\n",
      "Вероятность того, что перегорят ровно две лампочки в первый день: 0.2706705664732254\n"
     ]
    }
   ],
   "source": [
    "# Вероятность перегорания одной лампочки\n",
    "p = 0.0004\n",
    "# Количество испытаний (включенных лампочек)\n",
    "n = 5000\n",
    "\n",
    "# Параметр lambda для распределения Пуассона\n",
    "lmbda = n * p\n",
    "\n",
    "# Вероятность того, что ни одна лампочка не перегорит (k = 0)\n",
    "def probability_none_burned():\n",
    "    return math.exp(-lmbda)\n",
    "\n",
    "# Вероятность того, что перегорят ровно две лампочки (k = 2)\n",
    "def probability_two_burned():\n",
    "    return (math.exp(-lmbda) * (lmbda ** 2)) / math.factorial(2)\n",
    "\n",
    "# Вывод результатов\n",
    "print(\"Вероятность того, что ни одна из лампочек не перегорит в первый день:\", probability_none_burned())\n",
    "print(\"Вероятность того, что перегорят ровно две лампочки в первый день:\", probability_two_burned())"
   ]
  },
  {
   "cell_type": "markdown",
   "metadata": {},
   "source": [
    "3. Монету подбросили 144 раза. Какова вероятность, что орел выпадет ровно 70 раз?"
   ]
  },
  {
   "cell_type": "code",
   "execution_count": 6,
   "metadata": {},
   "outputs": [
    {
     "name": "stdout",
     "output_type": "stream",
     "text": [
      "Вероятность того, что орел выпадет ровно 70 раз: 0.06281178035144776\n"
     ]
    }
   ],
   "source": [
    "# Вероятность успеха (выпадения орла)\n",
    "p = 0.5\n",
    "# Количество испытаний (подбрасываний монеты)\n",
    "n = 144\n",
    "# Количество успехов (выпадения орла)\n",
    "k = 70\n",
    "\n",
    "# Функция для вычисления количества сочетаний C(n, k)\n",
    "def combinations(n, k):\n",
    "    return math.factorial(n) / (math.factorial(k) * math.factorial(n - k))\n",
    "\n",
    "# Вероятность того, что орел выпадет ровно k раз\n",
    "def probability_of_heads():\n",
    "    return combinations(n, k) * (p ** k) * ((1 - p) ** (n - k))\n",
    "\n",
    "# Вывод результата\n",
    "print(\"Вероятность того, что орел выпадет ровно 70 раз:\", probability_of_heads())"
   ]
  },
  {
   "cell_type": "markdown",
   "metadata": {},
   "source": [
    "4. В первом ящике находится 10 мячей, из которых 7 - белые. Во втором ящике - 11 мячей, из которых 9 белых. Из каждого ящика вытаскивают случайным образом по два мяча. Какова вероятность того, что все мячи белые? Какова вероятность того, что ровно два мяча белые? Какова вероятность того, что хотя бы один мяч белый?"
   ]
  },
  {
   "cell_type": "code",
   "execution_count": 7,
   "metadata": {},
   "outputs": [
    {
     "name": "stdout",
     "output_type": "stream",
     "text": [
      "Вероятность того, что все мячи белые: 0.3054545454545454\n",
      "Вероятность того, что ровно два мяча белые: 0.12848484848484848\n",
      "Вероятность того, что хотя бы один мяч белый: 0.9987878787878788\n"
     ]
    }
   ],
   "source": [
    "# Вероятность того, что все мячи белые\n",
    "probability_all_white = (7/10) * (6/9) * (9/11) * (8/10)\n",
    "\n",
    "# Вероятность того, что ровно два мяча белые\n",
    "# Вероятность вытащить два белых из первого ящика и два не белых из второго\n",
    "probability_two_white_first = (7/10) * (6/9) * (2/11) * (1/10)\n",
    "# Вероятность вытащить два белых из второго ящика и два не белых из первого\n",
    "probability_two_white_second = (3/10) * (2/9) * (9/11) * (8/10)\n",
    "# Вероятность вытащить по одному белому из каждого ящика\n",
    "probability_one_white_each = (7/10) * (3/9) * (9/11) * (2/10) + (3/10) * (7/9) * (2/11) * (9/10)\n",
    "\n",
    "probability_exactly_two_white = probability_two_white_first + probability_two_white_second + probability_one_white_each\n",
    "\n",
    "# Вероятность того, что хотя бы один мяч белый (обратное событию \"все мячи не белые\")\n",
    "probability_at_least_one_white = 1 - ((3/10) * (2/9) * (2/11) * (1/10))\n",
    "\n",
    "# Вывод результатов\n",
    "print(\"Вероятность того, что все мячи белые:\", probability_all_white)\n",
    "print(\"Вероятность того, что ровно два мяча белые:\", probability_exactly_two_white)\n",
    "print(\"Вероятность того, что хотя бы один мяч белый:\", probability_at_least_one_white)"
   ]
  },
  {
   "cell_type": "code",
   "execution_count": null,
   "metadata": {},
   "outputs": [],
   "source": []
  }
 ],
 "metadata": {
  "kernelspec": {
   "display_name": "analysis-eCDEBr3D",
   "language": "python",
   "name": "python3"
  },
  "language_info": {
   "codemirror_mode": {
    "name": "ipython",
    "version": 3
   },
   "file_extension": ".py",
   "mimetype": "text/x-python",
   "name": "python",
   "nbconvert_exporter": "python",
   "pygments_lexer": "ipython3",
   "version": "3.12.0"
  }
 },
 "nbformat": 4,
 "nbformat_minor": 2
}
