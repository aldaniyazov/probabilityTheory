{
 "cells": [
  {
   "cell_type": "markdown",
   "metadata": {},
   "source": [
    "Даны значения величины заработной платы заемщиков банка (zp) и значения их поведенческого кредитного скоринга (ks): zp = [35, 45, 190, 200, 40, 70, 54, 150, 120, 110], ks = [401, 574, 874, 919, 459, 739, 653, 902, 746, 832]. Используя математические операции, посчитать коэффициенты линейной регрессии, приняв за X заработную плату (то есть, zp - признак), а за y - значения скорингового балла (то есть, ks - целевая переменная). Произвести расчет как с использованием intercept, так и без"
   ]
  },
  {
   "cell_type": "code",
   "execution_count": 1,
   "metadata": {},
   "outputs": [],
   "source": [
    "import numpy as np"
   ]
  },
  {
   "cell_type": "code",
   "execution_count": 2,
   "metadata": {},
   "outputs": [
    {
     "name": "stdout",
     "output_type": "stream",
     "text": [
      "Коэффициенты линейной регрессии:\n",
      "Без использования intercept: b = 5.889820420132689\n",
      "С использованием intercept: b = 2.6205388824027653\n"
     ]
    }
   ],
   "source": [
    "# Заданные значения\n",
    "zp = np.array([35, 45, 190, 200, 40, 70, 54, 150, 120, 110])  # Заработная плата\n",
    "ks = np.array([401, 574, 874, 919, 459, 739, 653, 902, 746, 832])  # Поведенческий кредитный скоринг\n",
    "\n",
    "# Количество наблюдений\n",
    "n = len(zp)\n",
    "\n",
    "# Вычисление коэффициентов линейной регрессии без использования intercept\n",
    "b_without_intercept = np.sum(zp * ks) / np.sum(zp ** 2)\n",
    "\n",
    "# Вычисление коэффициентов линейной регрессии с использованием intercept\n",
    "b_with_intercept = (n * np.sum(zp * ks) - np.sum(zp) * np.sum(ks)) / (n * np.sum(zp ** 2) - np.sum(zp) ** 2)\n",
    "\n",
    "# Вывод результатов\n",
    "print(\"Коэффициенты линейной регрессии:\")\n",
    "print(\"Без использования intercept: b =\", b_without_intercept)\n",
    "print(\"С использованием intercept: b =\", b_with_intercept)"
   ]
  },
  {
   "cell_type": "markdown",
   "metadata": {},
   "source": [
    "Посчитать коэффициент линейной регрессии при заработной плате (zp), используя градиентный спуск (без intercept)"
   ]
  },
  {
   "cell_type": "code",
   "execution_count": 3,
   "metadata": {},
   "outputs": [
    {
     "name": "stdout",
     "output_type": "stream",
     "text": [
      "Iteration 0: Error = 1001078.660529458\n",
      "Iteration 100: Error = 7.022481682396276e+54\n",
      "Iteration 200: Error = 5.220965835081759e+103\n",
      "Iteration 300: Error = 3.881602755820869e+152\n",
      "Iteration 400: Error = 2.885833853337243e+201\n",
      "Iteration 500: Error = 2.1455150238077773e+250\n",
      "Iteration 600: Error = 1.5951142551265074e+299\n",
      "Iteration 700: Error = inf\n",
      "Iteration 800: Error = inf\n",
      "Iteration 900: Error = inf\n",
      "Коэффициент линейной регрессии (без intercept): -1.8808118228009613e+245\n"
     ]
    },
    {
     "name": "stderr",
     "output_type": "stream",
     "text": [
      "/Users/aldaniyazov/.local/share/virtualenvs/analysis-eCDEBr3D/lib/python3.12/site-packages/numpy/core/_methods.py:118: RuntimeWarning: overflow encountered in reduce\n",
      "  ret = umr_sum(arr, axis, dtype, out, keepdims, where=where)\n",
      "/var/folders/l6/gl17scyj2vz7k6qd8v36qqsc0000gn/T/ipykernel_6051/3178678219.py:18: RuntimeWarning: overflow encountered in square\n",
      "  error = np.mean((y_pred - ks) ** 2)\n"
     ]
    }
   ],
   "source": [
    "# Заданные значения\n",
    "zp = np.array([35, 45, 190, 200, 40, 70, 54, 150, 120, 110])  # Заработная плата\n",
    "ks = np.array([401, 574, 874, 919, 459, 739, 653, 902, 746, 832])  # Поведенческий кредитный скоринг\n",
    "\n",
    "# Гиперпараметры\n",
    "learning_rate = 0.0001  # Скорость обучения\n",
    "epochs = 1000  # Количество итераций\n",
    "\n",
    "# Инициализация случайного значения коэффициента регрессии\n",
    "b = np.random.randn()\n",
    "\n",
    "# Градиентный спуск\n",
    "for epoch in range(epochs):\n",
    "    # Вычисление предсказаний\n",
    "    y_pred = b * zp\n",
    "    \n",
    "    # Вычисление ошибки (среднеквадратичной ошибки)\n",
    "    error = np.mean((y_pred - ks) ** 2)\n",
    "    \n",
    "    # Вычисление градиента функции потерь по параметру b\n",
    "    gradient = np.mean(2 * (y_pred - ks) * zp)\n",
    "    \n",
    "    # Обновление коэффициента с учетом градиента и скорости обучения\n",
    "    b -= learning_rate * gradient\n",
    "    \n",
    "    # Вывод каждой 100-й итерации\n",
    "    if epoch % 100 == 0:\n",
    "        print(f\"Iteration {epoch}: Error = {error}\")\n",
    "\n",
    "# Вывод результата\n",
    "print(\"Коэффициент линейной регрессии (без intercept):\", b)"
   ]
  },
  {
   "cell_type": "markdown",
   "metadata": {},
   "source": [
    "Произвести вычисления как в пункте 2, но с вычислением intercept. Учесть, что изменение коэффициентов должно производиться на каждом шаге одновременно (то есть изменение одного коэффициента не должно влиять на изменение другого во время одной итерации)"
   ]
  },
  {
   "cell_type": "code",
   "execution_count": 4,
   "metadata": {},
   "outputs": [
    {
     "name": "stdout",
     "output_type": "stream",
     "text": [
      "Iteration 0: Error = 231481.54275817174\n",
      "Iteration 100: Error = 1.3238041751515154e+54\n",
      "Iteration 200: Error = 1.0010828428902576e+103\n",
      "Iteration 300: Error = 7.570355775729033e+151\n",
      "Iteration 400: Error = 5.724829566117758e+200\n",
      "Iteration 500: Error = 4.329211800873375e+249\n",
      "Iteration 600: Error = 3.2738223208854476e+298\n",
      "Iteration 700: Error = inf\n",
      "Iteration 800: Error = inf\n",
      "Iteration 900: Error = inf\n",
      "Коэффициенты линейной регрессии (с intercept):\n",
      "slope = -8.815065512013509e+244\n",
      "intercept = -6.488277953275935e+242\n"
     ]
    },
    {
     "name": "stderr",
     "output_type": "stream",
     "text": [
      "/var/folders/l6/gl17scyj2vz7k6qd8v36qqsc0000gn/T/ipykernel_6051/1425227050.py:19: RuntimeWarning: overflow encountered in square\n",
      "  error = np.mean((y_pred - ks) ** 2)\n"
     ]
    }
   ],
   "source": [
    "# Заданные значения\n",
    "zp = np.array([35, 45, 190, 200, 40, 70, 54, 150, 120, 110])  # Заработная плата\n",
    "ks = np.array([401, 574, 874, 919, 459, 739, 653, 902, 746, 832])  # Поведенческий кредитный скоринг\n",
    "\n",
    "# Гиперпараметры\n",
    "learning_rate = 0.0001  # Скорость обучения\n",
    "epochs = 1000  # Количество итераций\n",
    "\n",
    "# Инициализация случайных значений коэффициентов регрессии\n",
    "slope = np.random.randn()\n",
    "intercept = np.random.randn()\n",
    "\n",
    "# Градиентный спуск\n",
    "for epoch in range(epochs):\n",
    "    # Вычисление предсказаний\n",
    "    y_pred = slope * zp + intercept\n",
    "    \n",
    "    # Вычисление ошибки (среднеквадратичной ошибки)\n",
    "    error = np.mean((y_pred - ks) ** 2)\n",
    "    \n",
    "    # Вычисление градиентов функции потерь по параметрам slope и intercept\n",
    "    gradient_slope = np.mean(2 * (y_pred - ks) * zp)\n",
    "    gradient_intercept = np.mean(2 * (y_pred - ks))\n",
    "    \n",
    "    # Обновление коэффициентов с учетом градиентов и скорости обучения\n",
    "    slope -= learning_rate * gradient_slope\n",
    "    intercept -= learning_rate * gradient_intercept\n",
    "    \n",
    "    # Вывод каждой 100-й итерации\n",
    "    if epoch % 100 == 0:\n",
    "        print(f\"Iteration {epoch}: Error = {error}\")\n",
    "\n",
    "# Вывод результата\n",
    "print(\"Коэффициенты линейной регрессии (с intercept):\")\n",
    "print(\"slope =\", slope)\n",
    "print(\"intercept =\", intercept)"
   ]
  }
 ],
 "metadata": {
  "kernelspec": {
   "display_name": "analysis-eCDEBr3D",
   "language": "python",
   "name": "python3"
  },
  "language_info": {
   "codemirror_mode": {
    "name": "ipython",
    "version": 3
   },
   "file_extension": ".py",
   "mimetype": "text/x-python",
   "name": "python",
   "nbconvert_exporter": "python",
   "pygments_lexer": "ipython3",
   "version": "3.12.0"
  }
 },
 "nbformat": 4,
 "nbformat_minor": 2
}
